{
 "cells": [
  {
   "cell_type": "code",
   "execution_count": 1,
   "id": "a18141f6",
   "metadata": {},
   "outputs": [],
   "source": [
    "import numpy as np\n",
    "import h5py\n",
    "import matplotlib.pyplot as plt\n",
    "import os\n",
    "os.environ['HDF5_USE_FILE_LOCKING'] = 'FALSE'"
   ]
  },
  {
   "cell_type": "code",
   "execution_count": 2,
   "id": "d7878c6d",
   "metadata": {},
   "outputs": [],
   "source": [
    "test_dataset = h5py.File('test_catvnoncat.h5', \"r\")\n",
    "train_dataset =h5py.File('train_catvnoncat.h5',\"r\")"
   ]
  },
  {
   "cell_type": "code",
   "execution_count": 3,
   "id": "75609901",
   "metadata": {},
   "outputs": [],
   "source": [
    "train_set_x_orig = np.array(train_dataset[\"train_set_x\"][:]) # train set features\n",
    "train_set_y_orig = np.array(train_dataset[\"train_set_y\"][:]) # train set labels\n",
    "\n",
    "test_set_x_orig = np.array(test_dataset[\"test_set_x\"][:]) # train set features\n",
    "test_set_y_orig = np.array(test_dataset[\"test_set_y\"][:]) # train set labels"
   ]
  },
  {
   "cell_type": "code",
   "execution_count": 4,
   "id": "b1ce84df",
   "metadata": {},
   "outputs": [
    {
     "name": "stdout",
     "output_type": "stream",
     "text": [
      "Training features: [[[[ 17  31  56]\n",
      "   [ 22  33  59]\n",
      "   [ 25  35  62]\n",
      "   ...\n",
      "   [  1  28  57]\n",
      "   [  1  26  56]\n",
      "   [  1  22  51]]\n",
      "\n",
      "  [[ 25  36  62]\n",
      "   [ 28  38  64]\n",
      "   [ 30  40  67]\n",
      "   ...\n",
      "   [  1  27  56]\n",
      "   [  1  25  55]\n",
      "   [  2  21  51]]\n",
      "\n",
      "  [[ 32  40  67]\n",
      "   [ 34  42  69]\n",
      "   [ 35  42  70]\n",
      "   ...\n",
      "   [  1  25  55]\n",
      "   [  0  24  54]\n",
      "   [  1  21  51]]\n",
      "\n",
      "  ...\n",
      "\n",
      "  [[  0   0   0]\n",
      "   [  0   0   0]\n",
      "   [  0   0   0]\n",
      "   ...\n",
      "   [  0   0   0]\n",
      "   [  0   0   0]\n",
      "   [  0   0   0]]\n",
      "\n",
      "  [[  0   0   0]\n",
      "   [  0   0   0]\n",
      "   [  0   0   0]\n",
      "   ...\n",
      "   [  0   0   0]\n",
      "   [  0   0   0]\n",
      "   [  0   0   0]]\n",
      "\n",
      "  [[  0   0   0]\n",
      "   [  0   0   0]\n",
      "   [  0   0   0]\n",
      "   ...\n",
      "   [  0   0   0]\n",
      "   [  0   0   0]\n",
      "   [  0   0   0]]]\n",
      "\n",
      "\n",
      " [[[196 192 190]\n",
      "   [193 186 182]\n",
      "   [188 179 174]\n",
      "   ...\n",
      "   [ 90 142 200]\n",
      "   [ 90 142 201]\n",
      "   [ 90 142 201]]\n",
      "\n",
      "  [[230 229 229]\n",
      "   [204 199 197]\n",
      "   [193 186 181]\n",
      "   ...\n",
      "   [ 91 143 201]\n",
      "   [ 91 143 201]\n",
      "   [ 91 143 201]]\n",
      "\n",
      "  [[232 225 224]\n",
      "   [235 234 234]\n",
      "   [208 205 202]\n",
      "   ...\n",
      "   [ 91 144 202]\n",
      "   [ 91 144 202]\n",
      "   [ 92 144 202]]\n",
      "\n",
      "  ...\n",
      "\n",
      "  [[ 18  17  15]\n",
      "   [ 14  14  13]\n",
      "   [ 29  29  32]\n",
      "   ...\n",
      "   [ 83  81  81]\n",
      "   [ 84  82  83]\n",
      "   [ 82  81  82]]\n",
      "\n",
      "  [[ 22  20  18]\n",
      "   [ 16  15  14]\n",
      "   [ 25  24  24]\n",
      "   ...\n",
      "   [ 82  80  80]\n",
      "   [ 83  81  82]\n",
      "   [ 82  81  81]]\n",
      "\n",
      "  [[ 45  43  39]\n",
      "   [ 61  59  54]\n",
      "   [ 81  78  74]\n",
      "   ...\n",
      "   [ 83  82  81]\n",
      "   [ 84  82  82]\n",
      "   [ 82  80  81]]]\n",
      "\n",
      "\n",
      " [[[ 82  71  68]\n",
      "   [ 89  83  83]\n",
      "   [100  98 104]\n",
      "   ...\n",
      "   [131 132 137]\n",
      "   [126 124 124]\n",
      "   [105  97  95]]\n",
      "\n",
      "  [[ 95  91  97]\n",
      "   [104 104 113]\n",
      "   [110 115 126]\n",
      "   ...\n",
      "   [135 134 135]\n",
      "   [127 122 119]\n",
      "   [111 105 103]]\n",
      "\n",
      "  [[ 94  85  83]\n",
      "   [ 97  89  90]\n",
      "   [110 109 115]\n",
      "   ...\n",
      "   [136 134 131]\n",
      "   [127 120 117]\n",
      "   [116 108 104]]\n",
      "\n",
      "  ...\n",
      "\n",
      "  [[ 96 116 131]\n",
      "   [ 97 115 130]\n",
      "   [103 123 139]\n",
      "   ...\n",
      "   [152 155 157]\n",
      "   [146 149 152]\n",
      "   [130 133 134]]\n",
      "\n",
      "  [[ 90 108 123]\n",
      "   [ 92 108 121]\n",
      "   [100 119 134]\n",
      "   ...\n",
      "   [150 152 155]\n",
      "   [144 146 147]\n",
      "   [134 135 134]]\n",
      "\n",
      "  [[ 86 102 116]\n",
      "   [ 87 103 115]\n",
      "   [ 94 114 127]\n",
      "   ...\n",
      "   [154 156 160]\n",
      "   [146 148 152]\n",
      "   [138 141 142]]]\n",
      "\n",
      "\n",
      " ...\n",
      "\n",
      "\n",
      " [[[143 155 165]\n",
      "   [184 190 198]\n",
      "   [142 149 155]\n",
      "   ...\n",
      "   [ 99  92 102]\n",
      "   [120  98 102]\n",
      "   [100  84  95]]\n",
      "\n",
      "  [[151 149 139]\n",
      "   [173 179 185]\n",
      "   [105 135 141]\n",
      "   ...\n",
      "   [ 91  87  99]\n",
      "   [119  99 104]\n",
      "   [120  95 101]]\n",
      "\n",
      "  [[204 190 185]\n",
      "   [180 185 195]\n",
      "   [117 155 177]\n",
      "   ...\n",
      "   [ 96  88 101]\n",
      "   [125 103 110]\n",
      "   [120 100 110]]\n",
      "\n",
      "  ...\n",
      "\n",
      "  [[ 41  80 116]\n",
      "   [ 41  80 116]\n",
      "   [ 41  78 115]\n",
      "   ...\n",
      "   [ 63  75  98]\n",
      "   [ 60  72  98]\n",
      "   [ 60  70  96]]\n",
      "\n",
      "  [[ 71  90 121]\n",
      "   [ 73  91 123]\n",
      "   [ 74  91 124]\n",
      "   ...\n",
      "   [ 79 101 142]\n",
      "   [ 80 100 140]\n",
      "   [ 82 101 139]]\n",
      "\n",
      "  [[ 71  88 122]\n",
      "   [ 73  92 128]\n",
      "   [ 76  95 131]\n",
      "   ...\n",
      "   [ 81 106 150]\n",
      "   [ 85 108 151]\n",
      "   [ 85 107 149]]]\n",
      "\n",
      "\n",
      " [[[ 22  24  23]\n",
      "   [ 23  25  24]\n",
      "   [ 24  26  25]\n",
      "   ...\n",
      "   [ 24  29  25]\n",
      "   [ 23  25  22]\n",
      "   [ 20  22  21]]\n",
      "\n",
      "  [[ 22  24  23]\n",
      "   [ 23  25  24]\n",
      "   [ 23  26  25]\n",
      "   ...\n",
      "   [ 22  28  23]\n",
      "   [ 20  23  22]\n",
      "   [ 19  21  21]]\n",
      "\n",
      "  [[ 22  24  22]\n",
      "   [ 23  25  24]\n",
      "   [ 23  26  25]\n",
      "   ...\n",
      "   [ 23  27  23]\n",
      "   [ 20  23  21]\n",
      "   [ 18  20  19]]\n",
      "\n",
      "  ...\n",
      "\n",
      "  [[  8   5   0]\n",
      "   [  9   6   1]\n",
      "   [  9   6   1]\n",
      "   ...\n",
      "   [  4   5   0]\n",
      "   [  5   4   0]\n",
      "   [  4   5   0]]\n",
      "\n",
      "  [[  7   5   0]\n",
      "   [  8   5   1]\n",
      "   [  9   6   1]\n",
      "   ...\n",
      "   [  4   5   0]\n",
      "   [  4   5   0]\n",
      "   [  4   5   0]]\n",
      "\n",
      "  [[  7   5   0]\n",
      "   [  8   5   0]\n",
      "   [  9   6   1]\n",
      "   ...\n",
      "   [  4   5   0]\n",
      "   [  4   5   0]\n",
      "   [  4   5   0]]]\n",
      "\n",
      "\n",
      " [[[  8  28  53]\n",
      "   [ 14  33  58]\n",
      "   [ 19  35  61]\n",
      "   ...\n",
      "   [ 11  16  35]\n",
      "   [ 10  16  35]\n",
      "   [  9  14  32]]\n",
      "\n",
      "  [[ 15  31  57]\n",
      "   [ 15  32  58]\n",
      "   [ 18  34  60]\n",
      "   ...\n",
      "   [ 13  17  35]\n",
      "   [ 13  17  35]\n",
      "   [ 13  16  35]]\n",
      "\n",
      "  [[ 20  35  61]\n",
      "   [ 19  33  59]\n",
      "   [ 20  33  59]\n",
      "   ...\n",
      "   [ 16  17  35]\n",
      "   [ 16  18  35]\n",
      "   [ 15  17  35]]\n",
      "\n",
      "  ...\n",
      "\n",
      "  [[  0   0   0]\n",
      "   [  0   0   0]\n",
      "   [  0   0   0]\n",
      "   ...\n",
      "   [  0   0   0]\n",
      "   [  0   0   0]\n",
      "   [  0   0   0]]\n",
      "\n",
      "  [[  0   0   0]\n",
      "   [  0   0   0]\n",
      "   [  0   0   0]\n",
      "   ...\n",
      "   [  0   0   0]\n",
      "   [  0   0   0]\n",
      "   [  0   0   0]]\n",
      "\n",
      "  [[  0   0   0]\n",
      "   [  0   0   0]\n",
      "   [  0   0   0]\n",
      "   ...\n",
      "   [  0   0   0]\n",
      "   [  0   0   0]\n",
      "   [  0   0   0]]]]\n",
      "Training labels: [0 0 1 0 0 0 0 1 0 0 0 1 0 1 1 0 0 0 0 1 0 0 0 0 1 1 0 1 0 1 0 0 0 0 0 0 0\n",
      " 0 1 0 0 1 1 0 0 0 0 1 0 0 1 0 0 0 1 0 1 1 0 1 1 1 0 0 0 0 0 0 1 0 0 1 0 0\n",
      " 0 0 0 0 0 0 0 0 0 1 1 0 0 0 1 0 0 0 1 1 1 0 0 1 0 0 0 0 1 0 1 0 1 1 1 1 1\n",
      " 1 0 0 0 0 0 1 0 0 0 1 0 0 1 0 1 0 1 1 0 0 0 1 1 1 1 1 0 0 0 0 1 0 1 1 1 0\n",
      " 1 1 0 0 0 1 0 0 1 0 0 0 0 0 1 0 1 0 1 0 0 1 1 1 0 0 1 1 0 1 0 1 0 0 0 0 0\n",
      " 1 0 0 1 0 0 0 1 0 0 0 0 1 0 0 1 0 0 0 0 0 0 0 0]\n"
     ]
    }
   ],
   "source": [
    "print(\"Training features:\",train_set_x_orig)\n",
    "print(\"Training labels:\",train_set_y_orig)"
   ]
  },
  {
   "cell_type": "code",
   "execution_count": 5,
   "id": "914d8537",
   "metadata": {},
   "outputs": [
    {
     "name": "stdout",
     "output_type": "stream",
     "text": [
      "1\n"
     ]
    },
    {
     "data": {
      "image/png": "[encoded data removed]",
      "text/plain": [
       "<Figure size 432x288 with 1 Axes>"
      ]
     },
     "metadata": {
      "needs_background": "light"
     },
     "output_type": "display_data"
    }
   ],
   "source": [
    "plt.imshow(train_set_x_orig[29])\n",
    "print(train_set_y_orig[29])"
   ]
  },
  {
   "cell_type": "code",
   "execution_count": 6,
   "id": "b4ae2ede",
   "metadata": {},
   "outputs": [
    {
     "name": "stdout",
     "output_type": "stream",
     "text": [
      "(209, 64, 64, 3)\n",
      "(209,)\n",
      "(50, 64, 64, 3)\n",
      "(50,)\n"
     ]
    }
   ],
   "source": [
    "print(train_set_x_orig.shape)\n",
    "print(train_set_y_orig.shape)\n",
    "print(test_set_x_orig.shape)\n",
    "print(test_set_y_orig.shape)"
   ]
  },
  {
   "cell_type": "code",
   "execution_count": 7,
   "id": "1c4755d2",
   "metadata": {},
   "outputs": [
    {
     "name": "stdout",
     "output_type": "stream",
     "text": [
      "(12288, 209)\n",
      "(12288, 50)\n",
      "(1, 209)\n",
      "(1, 50)\n"
     ]
    }
   ],
   "source": [
    "train_set_x_flatten=train_set_x_orig.reshape(train_set_x_orig.shape[0],-1).T\n",
    "test_set_x_flatten=test_set_x_orig.reshape(test_set_x_orig.shape[0],-1).T\n",
    "print(train_set_x_flatten.shape)\n",
    "print(test_set_x_flatten.shape)\n",
    "train_set_y_orig=train_set_y_orig.reshape((1,train_set_y_orig.shape[0]))\n",
    "test_set_y_orig=test_set_y_orig.reshape((1,test_set_y_orig.shape[0]))\n",
    "print(train_set_y_orig.shape)\n",
    "print(test_set_y_orig.shape)"
   ]
  },
  {
   "cell_type": "code",
   "execution_count": 8,
   "id": "01cdcfe0",
   "metadata": {},
   "outputs": [],
   "source": [
    "def sigmoid(z):\n",
    "    s=1/(np.exp(-z+1e-5)+1)\n",
    "    return s"
   ]
  },
  {
   "cell_type": "code",
   "execution_count": 9,
   "id": "20bb4024",
   "metadata": {},
   "outputs": [
    {
     "data": {
      "text/plain": [
       "0.8807960280380303"
      ]
     },
     "execution_count": 9,
     "metadata": {},
     "output_type": "execute_result"
    }
   ],
   "source": [
    "sigmoid(2)"
   ]
  },
  {
   "cell_type": "code",
   "execution_count": 10,
   "id": "b5ed5778",
   "metadata": {},
   "outputs": [],
   "source": [
    "def initialize(dim):\n",
    "    w=np.zeros([dim,1],dtype=int)\n",
    "    b=0.0\n",
    "    return w,b"
   ]
  },
  {
   "cell_type": "code",
   "execution_count": 11,
   "id": "5781c0f3",
   "metadata": {},
   "outputs": [
    {
     "name": "stdout",
     "output_type": "stream",
     "text": [
      "[[0]\n",
      " [0]\n",
      " [0]\n",
      " [0]\n",
      " [0]\n",
      " [0]\n",
      " [0]\n",
      " [0]\n",
      " [0]\n",
      " [0]\n",
      " [0]\n",
      " [0]\n",
      " [0]] 0.0\n"
     ]
    }
   ],
   "source": [
    "w,b=initialize(13)\n",
    "print(w,b)"
   ]
  },
  {
   "cell_type": "code",
   "execution_count": 12,
   "id": "6fd89e02",
   "metadata": {},
   "outputs": [],
   "source": [
    "def propagate(w, b, X, Y):\n",
    "    m = X.shape[1]\n",
    "    z=np.dot(w.T,X)+b\n",
    "    A=sigmoid(z)\n",
    "    cost=np.sum((Y*np.log(A+1e-5))+(1-Y)*(np.log(1-A+1e-5))) * (-1/m)\n",
    "    dw=np.dot(X,(A-Y).T)/m\n",
    "    db=np.mean(A-Y)\n",
    "    cost = np.squeeze(np.array(cost))\n",
    "    grads = {\"dw\": dw,\n",
    "             \"db\": db}\n",
    "    return grads,cost"
   ]
  },
  {
   "cell_type": "code",
   "execution_count": 13,
   "id": "4734abaa",
   "metadata": {},
   "outputs": [
    {
     "name": "stdout",
     "output_type": "stream",
     "text": [
      "{'dw': array([[ 0.25071689],\n",
      "       [-0.06604133]]), 'db': -0.12500483811063054} 0.15899459559907697\n"
     ]
    }
   ],
   "source": [
    "w =  np.array([[1.], [2]])\n",
    "b = 1.5\n",
    "X = np.array([[1., -2., -1.], [3., 0.5, -3.2]])\n",
    "Y = np.array([[1, 1, 0]])\n",
    "grads, cost = propagate(w, b, X, Y)\n",
    "print(grads,cost)"
   ]
  },
  {
   "cell_type": "code",
   "execution_count": 14,
   "id": "3f04e70c",
   "metadata": {},
   "outputs": [],
   "source": [
    "def optimize(w,b,X,Y,num,rate=0.009):\n",
    "    costs = []\n",
    "    \n",
    "    for i in range(num):\n",
    "        grads,cost= propagate(w, b, X, Y)\n",
    "        dw = grads[\"dw\"]\n",
    "        db = grads[\"db\"]\n",
    "        w=w-rate*dw\n",
    "        b=b-rate*db\n",
    "        if i % 100 == 0:\n",
    "            costs.append(cost)\n",
    "            print (\"Cost after iteration %i: %f\" %(i, cost))\n",
    "    params = {\"w\": w,\n",
    "              \"b\": b}\n",
    "    \n",
    "    grads = {\"dw\": dw,\n",
    "             \"db\": db}\n",
    "    \n",
    "    return params, grads, costs"
   ]
  },
  {
   "cell_type": "code",
   "execution_count": 15,
   "id": "b460814f",
   "metadata": {},
   "outputs": [
    {
     "name": "stdout",
     "output_type": "stream",
     "text": [
      "Cost after iteration 0: 0.158995\n",
      "w = [[0.80955936]\n",
      " [2.05082045]]\n",
      "b = 1.5948718781091\n",
      "dw = [[ 0.17860599]\n",
      " [-0.04840676]]\n",
      "db = -0.08888508075234457\n",
      "Costs = [array(0.1589946)]\n"
     ]
    }
   ],
   "source": [
    "params, grads, costs = optimize(w, b, X, Y, num=100,rate=0.009)\n",
    "\n",
    "print (\"w = \" + str(params[\"w\"]))\n",
    "print (\"b = \" + str(params[\"b\"]))\n",
    "print (\"dw = \" + str(grads[\"dw\"]))\n",
    "print (\"db = \" + str(grads[\"db\"]))\n",
    "print(\"Costs = \" + str(costs))"
   ]
  },
  {
   "cell_type": "code",
   "execution_count": 16,
   "id": "ff6841a4",
   "metadata": {},
   "outputs": [],
   "source": [
    "def predict(w, b, X): \n",
    "    m = X.shape[1]\n",
    "    Y_prediction = np.zeros((1, m))\n",
    "    w = w.reshape(X.shape[0], 1)\n",
    "    z=np.dot(w.T,X)+b\n",
    "    A=sigmoid(z)\n",
    "    for i in range(A.shape[1]):\n",
    "        if A[0,i] >0.5:\n",
    "            Y_prediction[0,i]=1\n",
    "        else:\n",
    "            Y_prediction[0,i]=0\n",
    "    return Y_prediction"
   ]
  },
  {
   "cell_type": "code",
   "execution_count": 17,
   "id": "6bc6951e",
   "metadata": {},
   "outputs": [
    {
     "name": "stdout",
     "output_type": "stream",
     "text": [
      "predictions = [[1. 1. 0.]]\n"
     ]
    }
   ],
   "source": [
    "w = np.array([[0.1124579], [0.23106775]])\n",
    "b = -0.3\n",
    "X = np.array([[1., -1.1, -3.2],[1.2, 2., 0.1]])\n",
    "print (\"predictions = \" + str(predict(w, b, X)))"
   ]
  },
  {
   "cell_type": "code",
   "execution_count": 18,
   "id": "e1408c30",
   "metadata": {},
   "outputs": [],
   "source": [
    "def model(X_train, Y_train, X_test, Y_test, num=2000, rate=0.5):\n",
    "    w,b=initialize(X_train.shape[0])\n",
    "    params, grads, costs = optimize(w, b, X_train, Y_train, num, rate)\n",
    "    w=params[\"w\"]\n",
    "    b=params[\"b\"]\n",
    "    Y_prediction_test=predict(w, b,X_test)\n",
    "    Y_prediction_train=predict(w,b,X_train)\n",
    "    if True:\n",
    "        print(\"train accuracy: {} %\".format(100 - np.mean(np.abs(Y_prediction_train - Y_train)) * 100))\n",
    "        print(\"test accuracy: {} %\".format(100 - np.mean(np.abs(Y_prediction_test - Y_test)) * 100))    \n",
    "    d = {\"costs\": costs,\n",
    "         \"Y_prediction_test\": Y_prediction_test, \n",
    "         \"Y_prediction_train\" : Y_prediction_train, \n",
    "         \"w\" : w, \n",
    "         \"b\" : b,\n",
    "         \"learning_rate\" : rate,\n",
    "         \"num_iterations\": num}\n",
    "    \n",
    "    return d"
   ]
  },
  {
   "cell_type": "code",
   "execution_count": 19,
   "id": "f6023206",
   "metadata": {},
   "outputs": [],
   "source": [
    "train_x=train_set_x_flatten/255\n",
    "test_x=test_set_x_flatten/255"
   ]
  },
  {
   "cell_type": "code",
   "execution_count": 20,
   "id": "80b5a515",
   "metadata": {},
   "outputs": [
    {
     "name": "stdout",
     "output_type": "stream",
     "text": [
      "Cost after iteration 0: 0.693126\n",
      "Cost after iteration 100: 0.584489\n",
      "Cost after iteration 200: 0.466932\n",
      "Cost after iteration 300: 0.375992\n",
      "Cost after iteration 400: 0.331449\n",
      "Cost after iteration 500: 0.303259\n",
      "Cost after iteration 600: 0.279866\n",
      "Cost after iteration 700: 0.260029\n",
      "Cost after iteration 800: 0.242928\n",
      "Cost after iteration 900: 0.227991\n",
      "Cost after iteration 1000: 0.214807\n",
      "Cost after iteration 1100: 0.203066\n",
      "Cost after iteration 1200: 0.192532\n",
      "Cost after iteration 1300: 0.183021\n",
      "Cost after iteration 1400: 0.174386\n",
      "Cost after iteration 1500: 0.166509\n",
      "Cost after iteration 1600: 0.159293\n",
      "Cost after iteration 1700: 0.152656\n",
      "Cost after iteration 1800: 0.146531\n",
      "Cost after iteration 1900: 0.140860\n",
      "train accuracy: 99.04306220095694 %\n",
      "test accuracy: 70.0 %\n"
     ]
    }
   ],
   "source": [
    "logistic_regression_model = model(train_x, train_set_y_orig, test_x, test_set_y_orig, num=2000,rate=0.005)"
   ]
  },
  {
   "cell_type": "code",
   "execution_count": 21,
   "id": "c90461aa",
   "metadata": {},
   "outputs": [
    {
     "data": {
      "image/png": "[encoded data removed]",
      "text/plain": [
       "<Figure size 432x288 with 1 Axes>"
      ]
     },
     "metadata": {
      "needs_background": "light"
     },
     "output_type": "display_data"
    }
   ],
   "source": [
    "costs = np.squeeze(logistic_regression_model['costs'])\n",
    "plt.plot(costs)\n",
    "plt.ylabel('cost')\n",
    "plt.xlabel('iterations (per hundreds)')\n",
    "plt.title(\"Learning rate =\" + str(logistic_regression_model[\"learning_rate\"]))\n",
    "plt.show()"
   ]
  },
  {
   "cell_type": "code",
   "execution_count": null,
   "id": "6ee519a7",
   "metadata": {},
   "outputs": [],
   "source": []
  }
 ],
 "metadata": {
  "kernelspec": {
   "display_name": "Python 3 (ipykernel)",
   "language": "python",
   "name": "python3"
  },
  "language_info": {
   "codemirror_mode": {
    "name": "ipython",
    "version": 3
   },
   "file_extension": ".py",
   "mimetype": "text/x-python",
   "name": "python",
   "nbconvert_exporter": "python",
   "pygments_lexer": "ipython3",
   "version": "3.9.12"
  }
 },
 "nbformat": 4,
 "nbformat_minor": 5
}
